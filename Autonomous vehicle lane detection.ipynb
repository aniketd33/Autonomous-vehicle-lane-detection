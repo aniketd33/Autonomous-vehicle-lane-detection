{
 "cells": [
  {
   "cell_type": "code",
   "execution_count": null,
   "id": "1fd89d7c",
   "metadata": {},
   "outputs": [],
   "source": [
    "# Import Required Libraries\n",
    "import cv2\n",
    "import numpy as np\n"
   ]
  },
  {
   "cell_type": "code",
   "execution_count": null,
   "id": "a3cbc16f",
   "metadata": {},
   "outputs": [],
   "source": [
    "# Function to Draw Lines\n",
    "def draw_lines(frame, lines):\n",
    "    line_image = np.zeros_like(frame)\n",
    "    if lines is not None:\n",
    "        for line in lines:\n",
    "            x1, y1, x2, y2 = line[0]\n",
    "            cv2.line(line_image, (x1, y1), (x2, y2), (0, 255, 0), 5)\n",
    "    return line_image\n"
   ]
  },
  {
   "cell_type": "code",
   "execution_count": null,
   "id": "e5c41a30",
   "metadata": {},
   "outputs": [],
   "source": [
    "# Region of Interest (ROI)\n",
    "def region_of_interest(edges):\n",
    "    height, width = edges.shape\n",
    "    mask = np.zeros_like(edges)\n",
    "\n",
    "    # Triangle covering bottom half of the frame (road area)\n",
    "    polygon = np.array([[\n",
    "        (0, height),\n",
    "        (width, height),\n",
    "        (int(width / 2), int(height / 2) + 50)\n",
    "    ]], np.int32)\n",
    "\n",
    "    cv2.fillPoly(mask, polygon, 255)\n",
    "    cropped_edges = cv2.bitwise_and(edges, mask)\n",
    "    return cropped_edges\n"
   ]
  },
  {
   "cell_type": "code",
   "execution_count": null,
   "id": "1fce58b6",
   "metadata": {},
   "outputs": [],
   "source": [
    "# Process Each Video Frame\n",
    "def process_frame(frame):\n",
    "    # 1. Convert to grayscale\n",
    "    gray = cv2.cvtColor(frame, cv2.COLOR_BGR2GRAY)\n",
    "\n",
    "    # 2. Apply Gaussian blur to reduce noise\n",
    "    blur = cv2.GaussianBlur(gray, (5, 5), 0)\n",
    "\n",
    "    # 3. Detect edges using Canny\n",
    "    edges = cv2.Canny(blur, 50, 150)\n",
    "\n",
    "    # 4. Apply region of interest\n",
    "    roi = region_of_interest(edges)\n",
    "\n",
    "    # 5. Detect straight lines using Hough Transform\n",
    "    lines = cv2.HoughLinesP(\n",
    "        roi,\n",
    "        rho=2,                    # distance resolution in pixels\n",
    "        theta=np.pi/180,          # angle resolution in radians\n",
    "        threshold=100,            # minimum number of votes (strength of line)\n",
    "        minLineLength=40,         # minimum length of a line\n",
    "        maxLineGap=5              # maximum gap between lines to connect\n",
    "    )\n",
    "\n",
    "    # 6. Draw the lines\n",
    "    line_image = draw_lines(frame, lines)\n",
    "\n",
    "    # 7. Combine original frame with detected lines\n",
    "    combo = cv2.addWeighted(frame, 0.8, line_image, 1, 1)\n",
    "\n",
    "    return combo\n"
   ]
  },
  {
   "cell_type": "code",
   "execution_count": 9,
   "id": "c1083163",
   "metadata": {},
   "outputs": [
    {
     "name": "stdout",
     "output_type": "stream",
     "text": [
      "Press 's' to exit the video window.\n"
     ]
    }
   ],
   "source": [
    "# Load and Process Video\n",
    "video_path = 'highway.mp4'  # Your video file\n",
    "cap = cv2.VideoCapture(video_path)\n",
    "\n",
    "if not cap.isOpened():\n",
    "    print(\"Error: Could not open video file.\")\n",
    "    exit()\n",
    "\n",
    "print(\"Press 's' to exit the video window.\")\n"
   ]
  },
  {
   "cell_type": "code",
   "execution_count": 15,
   "id": "60939e82",
   "metadata": {},
   "outputs": [
    {
     "name": "stdout",
     "output_type": "stream",
     "text": [
      "End of video reached or cannot read frame.\n"
     ]
    }
   ],
   "source": [
    "# Read and Display Frames\n",
    "while True:\n",
    "    ret, frame = cap.read()\n",
    "    if not ret:\n",
    "        print(\"End of video reached or cannot read frame.\")\n",
    "        break\n",
    "\n",
    "    # Optional: resize for faster processing\n",
    "    frame = cv2.resize(frame, (960, 540))\n",
    "\n",
    "    # Process the frame\n",
    "    lane_frame = process_frame(frame)\n",
    "\n",
    "    # Show the video\n",
    "    cv2.imshow(\"Lane Detection - Highway\", lane_frame)\n",
    "\n",
    "    # Press 'q' to stop\n",
    "    if cv2.waitKey(10) & 0xFF == ord('q'):\n",
    "        break\n",
    "\n",
    "cap.release()\n",
    "cv2.destroyAllWindows()\n"
   ]
  }
 ],
 "metadata": {
  "kernelspec": {
   "display_name": "Python 3",
   "language": "python",
   "name": "python3"
  },
  "language_info": {
   "codemirror_mode": {
    "name": "ipython",
    "version": 3
   },
   "file_extension": ".py",
   "mimetype": "text/x-python",
   "name": "python",
   "nbconvert_exporter": "python",
   "pygments_lexer": "ipython3",
   "version": "3.12.6"
  }
 },
 "nbformat": 4,
 "nbformat_minor": 5
}
